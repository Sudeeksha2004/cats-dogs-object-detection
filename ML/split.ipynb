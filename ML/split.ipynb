{
 "cells": [
  {
   "cell_type": "code",
   "execution_count": 1,
   "id": "7c4b48fc-5b26-4e64-825d-576953e7cb58",
   "metadata": {},
   "outputs": [
    {
     "name": "stdout",
     "output_type": "stream",
     "text": [
      "✅ 206 frames for training and 89 frames for testing have been moved.\n"
     ]
    }
   ],
   "source": [
    "import os\n",
    "import shutil\n",
    "import random\n",
    "\n",
    "# Define directories\n",
    "frames_dir = '/Users/madhushreeg/Documents/sudee_ml/frames'  # Folder where your frames are stored\n",
    "train_dir = 'dataset/images/train'\n",
    "test_dir = 'dataset/images/test'\n",
    "\n",
    "# Create directories if they don't exist\n",
    "os.makedirs(train_dir, exist_ok=True)\n",
    "os.makedirs(test_dir, exist_ok=True)\n",
    "\n",
    "# List all frame files in the frames directory\n",
    "frame_files = [f for f in os.listdir(frames_dir) if f.endswith('.jpg')]\n",
    "\n",
    "# Shuffle the frame files for random distribution\n",
    "random.shuffle(frame_files)\n",
    "\n",
    "# Split ratio (e.g., 70% train, 30% test)\n",
    "train_ratio = 0.7\n",
    "train_count = int(len(frame_files) * train_ratio)\n",
    "\n",
    "# Split into train and test files\n",
    "train_files = frame_files[:train_count]\n",
    "test_files = frame_files[train_count:]\n",
    "\n",
    "def move_files(file_list, target_dir):\n",
    "    for file in file_list:\n",
    "        # Move image to the target directory\n",
    "        shutil.copy(os.path.join(frames_dir, file), target_dir)\n",
    "\n",
    "# Move train and test frames\n",
    "move_files(train_files, train_dir)\n",
    "move_files(test_files, test_dir)\n",
    "\n",
    "print(f\"✅ {len(train_files)} frames for training and {len(test_files)} frames for testing have been moved.\")\n"
   ]
  },
  {
   "cell_type": "code",
   "execution_count": null,
   "id": "4b660892-2113-4d9c-977d-cad84c9028db",
   "metadata": {},
   "outputs": [],
   "source": []
  }
 ],
 "metadata": {
  "kernelspec": {
   "display_name": "Python 3 (ipykernel)",
   "language": "python",
   "name": "python3"
  },
  "language_info": {
   "codemirror_mode": {
    "name": "ipython",
    "version": 3
   },
   "file_extension": ".py",
   "mimetype": "text/x-python",
   "name": "python",
   "nbconvert_exporter": "python",
   "pygments_lexer": "ipython3",
   "version": "3.12.4"
  }
 },
 "nbformat": 4,
 "nbformat_minor": 5
}
