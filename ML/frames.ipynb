{
 "cells": [
  {
   "cell_type": "code",
   "execution_count": null,
   "id": "ec988867-792e-4a06-a1e1-d06afff6d013",
   "metadata": {},
   "outputs": [],
   "source": [
    "/Users/madhushreeg/Documents/sudee_ml/video.webm"
   ]
  },
  {
   "cell_type": "code",
   "execution_count": 7,
   "id": "5ad60e60-5f4e-4a90-8544-3320194bc47e",
   "metadata": {},
   "outputs": [
    {
     "name": "stdout",
     "output_type": "stream",
     "text": [
      "Saved 300 frames to frames\n"
     ]
    }
   ],
   "source": [
    "import cv2\n",
    "import os\n",
    "import numpy as np\n",
    "\n",
    "# Input video path\n",
    "video_path = 'video.mp4'\n",
    "output_folder = 'frames'\n",
    "os.makedirs(output_folder, exist_ok=True)\n",
    "\n",
    "# Open video\n",
    "cap = cv2.VideoCapture(video_path)\n",
    "total_frames = int(cap.get(cv2.CAP_PROP_FRAME_COUNT))\n",
    "\n",
    "# Number of frames you want\n",
    "num_output_frames = 300\n",
    "\n",
    "# Calculate frame indices to capture\n",
    "frame_indices = np.linspace(0, total_frames - 1, num=num_output_frames, dtype=int)\n",
    "\n",
    "frame_count = 0\n",
    "saved_count = 0\n",
    "\n",
    "while True:\n",
    "    ret, frame = cap.read()\n",
    "    if not ret:\n",
    "        break\n",
    "\n",
    "    if frame_count in frame_indices:\n",
    "        filename = os.path.join(output_folder, f'frame_{saved_count:04d}.jpg')\n",
    "        cv2.imwrite(filename, frame)\n",
    "        saved_count += 1\n",
    "\n",
    "    frame_count += 1\n",
    "\n",
    "cap.release()\n",
    "print(f\"Saved {saved_count} frames to {output_folder}\")\n"
   ]
  },
  {
   "cell_type": "code",
   "execution_count": null,
   "id": "2250da70-4733-40c1-8c54-65624754b9a5",
   "metadata": {},
   "outputs": [],
   "source": []
  }
 ],
 "metadata": {
  "kernelspec": {
   "display_name": "Python 3 (ipykernel)",
   "language": "python",
   "name": "python3"
  },
  "language_info": {
   "codemirror_mode": {
    "name": "ipython",
    "version": 3
   },
   "file_extension": ".py",
   "mimetype": "text/x-python",
   "name": "python",
   "nbconvert_exporter": "python",
   "pygments_lexer": "ipython3",
   "version": "3.12.4"
  }
 },
 "nbformat": 4,
 "nbformat_minor": 5
}
